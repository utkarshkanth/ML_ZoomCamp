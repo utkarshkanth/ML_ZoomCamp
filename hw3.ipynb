{
 "cells": [
  {
   "cell_type": "code",
   "execution_count": 70,
   "metadata": {},
   "outputs": [],
   "source": [
    "import numpy as np\n",
    "import pandas as pd\n",
    "from sklearn.model_selection import train_test_split\n",
    "from sklearn.metrics import mutual_info_score\n",
    "from sklearn.feature_extraction import DictVectorizer\n",
    "from sklearn.linear_model import LogisticRegression"
   ]
  },
  {
   "cell_type": "code",
   "execution_count": 71,
   "metadata": {},
   "outputs": [],
   "source": [
    "df = pd.read_csv('bank-full.csv', sep=';')"
   ]
  },
  {
   "cell_type": "code",
   "execution_count": 72,
   "metadata": {},
   "outputs": [
    {
     "data": {
      "text/plain": [
       "age          0\n",
       "job          0\n",
       "marital      0\n",
       "education    0\n",
       "default      0\n",
       "balance      0\n",
       "housing      0\n",
       "loan         0\n",
       "contact      0\n",
       "day          0\n",
       "month        0\n",
       "duration     0\n",
       "campaign     0\n",
       "pdays        0\n",
       "previous     0\n",
       "poutcome     0\n",
       "y            0\n",
       "dtype: int64"
      ]
     },
     "execution_count": 72,
     "metadata": {},
     "output_type": "execute_result"
    }
   ],
   "source": [
    "df.isnull().sum()"
   ]
  },
  {
   "cell_type": "code",
   "execution_count": 73,
   "metadata": {},
   "outputs": [],
   "source": [
    "df.y=(df.y=='yes').astype(int)"
   ]
  },
  {
   "cell_type": "code",
   "execution_count": 74,
   "metadata": {},
   "outputs": [
    {
     "data": {
      "text/plain": [
       "0    secondary\n",
       "Name: education, dtype: object"
      ]
     },
     "execution_count": 74,
     "metadata": {},
     "output_type": "execute_result"
    }
   ],
   "source": [
    "#Q1\n",
    "df['education'].mode()"
   ]
  },
  {
   "cell_type": "code",
   "execution_count": 75,
   "metadata": {},
   "outputs": [],
   "source": [
    "df_numerical = df.select_dtypes(include='number')\n",
    "df_categorical = df.select_dtypes(exclude='number') \n",
    "correlation_matrix = df_numerical.corr()"
   ]
  },
  {
   "cell_type": "code",
   "execution_count": 76,
   "metadata": {},
   "outputs": [],
   "source": [
    "correlation_matrix_lower = correlation_matrix.where(\n",
    "    np.tril(np.ones(correlation_matrix.shape), k=-1).astype(bool)\n",
    ")"
   ]
  },
  {
   "cell_type": "code",
   "execution_count": 77,
   "metadata": {},
   "outputs": [],
   "source": [
    "correlations = correlation_matrix_lower.unstack().sort_values(ascending=False).dropna()\n",
    "correlations = correlations[correlations < 1]\n",
    "top_two_correlations = correlations.head(2)"
   ]
  },
  {
   "cell_type": "code",
   "execution_count": 78,
   "metadata": {},
   "outputs": [
    {
     "name": "stdout",
     "output_type": "stream",
     "text": [
      "pdays and previous: 0.4548196354805043\n",
      "duration and y: 0.3945210158945639\n"
     ]
    }
   ],
   "source": [
    "\n",
    "#Q2\n",
    "for (feature1, feature2), corr_value in top_two_correlations.items():\n",
    "    print(f\"{feature1} and {feature2}: {corr_value}\")"
   ]
  },
  {
   "cell_type": "code",
   "execution_count": 79,
   "metadata": {},
   "outputs": [],
   "source": [
    "df_full_train,df_test=train_test_split(df,test_size=0.2,random_state=42)\n",
    "df_train,df_val=train_test_split(df_full_train,test_size=0.25,random_state=42)\n",
    "del(df_full_train)"
   ]
  },
  {
   "cell_type": "code",
   "execution_count": 80,
   "metadata": {},
   "outputs": [],
   "source": [
    "y_train=df_train.y.values\n",
    "y_test=df_test.y.values\n",
    "y_val=df_val.y.values\n",
    "del df_train['y']\n",
    "del df_test['y']\n",
    "del df_val['y']"
   ]
  },
  {
   "cell_type": "code",
   "execution_count": 81,
   "metadata": {},
   "outputs": [],
   "source": [
    "categorical_features=df_categorical.columns\n",
    "numerical_features=df_numerical.columns"
   ]
  },
  {
   "cell_type": "code",
   "execution_count": 82,
   "metadata": {},
   "outputs": [
    {
     "data": {
      "text/plain": [
       "Index(['job', 'marital', 'education', 'default', 'housing', 'loan', 'contact',\n",
       "       'month', 'poutcome'],\n",
       "      dtype='object')"
      ]
     },
     "execution_count": 82,
     "metadata": {},
     "output_type": "execute_result"
    }
   ],
   "source": [
    "categorical_features"
   ]
  },
  {
   "cell_type": "code",
   "execution_count": 83,
   "metadata": {},
   "outputs": [
    {
     "data": {
      "text/plain": [
       "Index(['age', 'balance', 'day', 'duration', 'campaign', 'pdays', 'previous',\n",
       "       'y'],\n",
       "      dtype='object')"
      ]
     },
     "execution_count": 83,
     "metadata": {},
     "output_type": "execute_result"
    }
   ],
   "source": [
    "numerical_features"
   ]
  },
  {
   "cell_type": "code",
   "execution_count": 84,
   "metadata": {},
   "outputs": [
    {
     "name": "stdout",
     "output_type": "stream",
     "text": [
      "MI value for feature job 0.01\n",
      "MI value for feature marital 0.0\n",
      "MI value for feature education 0.0\n",
      "MI value for feature default 0.0\n",
      "MI value for feature housing 0.01\n",
      "MI value for feature loan 0.0\n",
      "MI value for feature contact 0.01\n",
      "MI value for feature month 0.03\n",
      "MI value for feature poutcome 0.03\n"
     ]
    }
   ],
   "source": [
    "#Q3\n",
    "for i in categorical_features:\n",
    "    print(f'MI value for feature {i}',round(mutual_info_score(y_train,df_train[i]),2))"
   ]
  },
  {
   "cell_type": "code",
   "execution_count": 85,
   "metadata": {},
   "outputs": [
    {
     "data": {
      "text/plain": [
       "['job',\n",
       " 'marital',\n",
       " 'education',\n",
       " 'default',\n",
       " 'housing',\n",
       " 'loan',\n",
       " 'contact',\n",
       " 'month',\n",
       " 'poutcome']"
      ]
     },
     "execution_count": 85,
     "metadata": {},
     "output_type": "execute_result"
    }
   ],
   "source": [
    "list(categorical_features)"
   ]
  },
  {
   "cell_type": "code",
   "execution_count": 61,
   "metadata": {},
   "outputs": [
    {
     "name": "stdout",
     "output_type": "stream",
     "text": [
      "0.9\n"
     ]
    }
   ],
   "source": [
    "#Q4\n",
    "from sklearn.metrics import accuracy_score\n",
    "from sklearn.feature_extraction import DictVectorizer\n",
    "from sklearn.linear_model import LogisticRegression\n",
    "from sklearn.feature_extraction import DictVectorizer\n",
    "\n",
    "#doing OHE\n",
    "dv = DictVectorizer(sparse=False)\n",
    "\n",
    "train_dict = df_train.to_dict(orient='records')\n",
    "X_train = dv.fit_transform(train_dict)\n",
    "\n",
    "val_dict = df_val.to_dict(orient='records')\n",
    "X_val = dv.transform(val_dict)\n",
    "model = LogisticRegression(solver='liblinear', C=1.0, max_iter=1000, random_state=42)\n",
    "\n",
    "model.fit(X_train,y_train)\n",
    "y_pred=model.predict_proba(X_val)[:,1]\n",
    "decision=y_pred >= 0.5\n",
    "print(round((y_val == decision).mean(),2))"
   ]
  },
  {
   "cell_type": "code",
   "execution_count": 68,
   "metadata": {},
   "outputs": [
    {
     "data": {
      "text/plain": [
       "['job',\n",
       " 'marital',\n",
       " 'education',\n",
       " 'default',\n",
       " 'housing',\n",
       " 'loan',\n",
       " 'contact',\n",
       " 'month',\n",
       " 'poutcome',\n",
       " 'age',\n",
       " 'balance',\n",
       " 'day',\n",
       " 'duration',\n",
       " 'campaign',\n",
       " 'pdays',\n",
       " 'previous',\n",
       " 'y']"
      ]
     },
     "execution_count": 68,
     "metadata": {},
     "output_type": "execute_result"
    }
   ],
   "source": [
    "subset"
   ]
  },
  {
   "cell_type": "code",
   "execution_count": 86,
   "metadata": {},
   "outputs": [
    {
     "data": {
      "text/plain": [
       "({'age': -0.0001105950011059953,\n",
       "  'balance': 0.0,\n",
       "  'marital': 0.00011059500110588427,\n",
       "  'previous': -0.0013271400132713884},\n",
       " 'previous')"
      ]
     },
     "execution_count": 86,
     "metadata": {},
     "output_type": "execute_result"
    }
   ],
   "source": [
    "from sklearn.metrics import accuracy_score\n",
    "from sklearn.feature_extraction import DictVectorizer\n",
    "from sklearn.linear_model import LogisticRegression\n",
    "\n",
    "# Subset the training data with selected features\n",
    "subset = ['age','balance','marital','previous']\n",
    "train_dict_small = df_train[subset].to_dict(orient='records')\n",
    "val_dict_small = df_val[subset].to_dict(orient='records')\n",
    "\n",
    "# Initialize the DictVectorizer\n",
    "dv_small = DictVectorizer(sparse=False)\n",
    "dv_small.fit(train_dict_small)\n",
    "\n",
    "# Transform training and validation data\n",
    "X_small_train = dv_small.transform(train_dict_small)\n",
    "X_small_val = dv_small.transform(val_dict_small)\n",
    "\n",
    "# Initialize and train the logistic regression model\n",
    "model_small = LogisticRegression(solver='liblinear', C=1.0, max_iter=1000, random_state=42)\n",
    "model_small.fit(X_small_train, y_train)\n",
    "\n",
    "# Get baseline accuracy\n",
    "y_pred_base = model_small.predict(X_small_val)\n",
    "accuracy_base = accuracy_score(y_val, y_pred_base)\n",
    "\n",
    "# Initialize a dictionary to store the accuracy differences\n",
    "accuracy_diff = {}\n",
    "\n",
    "# Feature elimination process\n",
    "for feature in subset:\n",
    "    # Exclude the current feature\n",
    "    subset_temp = [f for f in subset if f != feature]\n",
    "    \n",
    "    # Transform training and validation sets excluding the current feature\n",
    "    train_dict_temp = df_train[subset_temp].to_dict(orient='records')\n",
    "    val_dict_temp = df_val[subset_temp].to_dict(orient='records')\n",
    "    \n",
    "    # Re-train the vectorizer and model with the reduced feature set\n",
    "    dv_temp = DictVectorizer(sparse=False)\n",
    "    dv_temp.fit(train_dict_temp)\n",
    "    \n",
    "    X_temp_train = dv_temp.transform(train_dict_temp)\n",
    "    X_temp_val = dv_temp.transform(val_dict_temp)\n",
    "    \n",
    "    # Train the model without the current feature\n",
    "    model_temp = LogisticRegression(solver='liblinear', C=1.0, max_iter=1000, random_state=42)\n",
    "    model_temp.fit(X_temp_train, y_train)\n",
    "    \n",
    "    # Get the accuracy without the current feature\n",
    "    y_pred_temp = model_temp.predict(X_temp_val)\n",
    "    accuracy_temp = accuracy_score(y_val, y_pred_temp)\n",
    "    \n",
    "    # Store the difference in accuracy\n",
    "    accuracy_diff[feature] = accuracy_base - accuracy_temp\n",
    "\n",
    "# Output the accuracy differences and find the least useful feature\n",
    "least_useful_feature = min(accuracy_diff, key=accuracy_diff.get)\n",
    "accuracy_diff, least_useful_feature"
   ]
  },
  {
   "cell_type": "code",
   "execution_count": 89,
   "metadata": {},
   "outputs": [
    {
     "data": {
      "text/plain": [
       "{0.01: 0.898, 0.1: 0.9, 1: 0.901, 10: 0.9, 100: 0.901}"
      ]
     },
     "execution_count": 89,
     "metadata": {},
     "output_type": "execute_result"
    }
   ],
   "source": [
    "# Define the C values to try\n",
    "C_values = [0.01, 0.1, 1, 10, 100]\n",
    "# Dictionary to store accuracies for each C\n",
    "accuracy_results = {}\n",
    "\n",
    "# Loop through each value of C\n",
    "for C in C_values:\n",
    "    # Initialize and train the logistic regression model with regularization\n",
    "    model_regularized = LogisticRegression(solver='liblinear', C=C, max_iter=1000, random_state=42)\n",
    "    \n",
    "    # Train the model using all features\n",
    "    model_regularized.fit(X_train, y_train)\n",
    "    \n",
    "    # Make predictions on the validation dataset\n",
    "    y_pred = model_regularized.predict(X_val)\n",
    "    \n",
    "    # Calculate the accuracy and round it to 3 decimal digits\n",
    "    accuracy = accuracy_score(y_val, y_pred)\n",
    "    accuracy_results[C] = round(accuracy, 3)\n",
    "\n",
    "# Output the accuracy results\n",
    "accuracy_results"
   ]
  },
  {
   "cell_type": "code",
   "execution_count": null,
   "metadata": {},
   "outputs": [],
   "source": []
  }
 ],
 "metadata": {
  "kernelspec": {
   "display_name": "myenv",
   "language": "python",
   "name": "python3"
  },
  "language_info": {
   "codemirror_mode": {
    "name": "ipython",
    "version": 3
   },
   "file_extension": ".py",
   "mimetype": "text/x-python",
   "name": "python",
   "nbconvert_exporter": "python",
   "pygments_lexer": "ipython3",
   "version": "3.12.3"
  }
 },
 "nbformat": 4,
 "nbformat_minor": 2
}
