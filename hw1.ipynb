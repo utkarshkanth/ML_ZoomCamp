{
 "cells": [
  {
   "cell_type": "code",
   "execution_count": 11,
   "metadata": {},
   "outputs": [
    {
     "data": {
      "text/html": [
       "<div>\n",
       "<style scoped>\n",
       "    .dataframe tbody tr th:only-of-type {\n",
       "        vertical-align: middle;\n",
       "    }\n",
       "\n",
       "    .dataframe tbody tr th {\n",
       "        vertical-align: top;\n",
       "    }\n",
       "\n",
       "    .dataframe thead th {\n",
       "        text-align: right;\n",
       "    }\n",
       "</style>\n",
       "<table border=\"1\" class=\"dataframe\">\n",
       "  <thead>\n",
       "    <tr style=\"text-align: right;\">\n",
       "      <th></th>\n",
       "      <th>Status</th>\n",
       "      <th>Brand</th>\n",
       "      <th>Model</th>\n",
       "      <th>CPU</th>\n",
       "      <th>RAM</th>\n",
       "      <th>Storage</th>\n",
       "      <th>Storage type</th>\n",
       "      <th>GPU</th>\n",
       "      <th>Screen</th>\n",
       "      <th>Touch</th>\n",
       "      <th>Final Price</th>\n",
       "    </tr>\n",
       "    <tr>\n",
       "      <th>Laptop</th>\n",
       "      <th></th>\n",
       "      <th></th>\n",
       "      <th></th>\n",
       "      <th></th>\n",
       "      <th></th>\n",
       "      <th></th>\n",
       "      <th></th>\n",
       "      <th></th>\n",
       "      <th></th>\n",
       "      <th></th>\n",
       "      <th></th>\n",
       "    </tr>\n",
       "  </thead>\n",
       "  <tbody>\n",
       "    <tr>\n",
       "      <th>ASUS ExpertBook B1 B1502CBA-EJ0436X Intel Core i5-1235U/8GB/512GB SSD/15.6\"</th>\n",
       "      <td>New</td>\n",
       "      <td>Asus</td>\n",
       "      <td>ExpertBook</td>\n",
       "      <td>Intel Core i5</td>\n",
       "      <td>8</td>\n",
       "      <td>512</td>\n",
       "      <td>SSD</td>\n",
       "      <td>NaN</td>\n",
       "      <td>15.6</td>\n",
       "      <td>No</td>\n",
       "      <td>1009.00</td>\n",
       "    </tr>\n",
       "    <tr>\n",
       "      <th>Alurin Go Start Intel Celeron N4020/8GB/256GB SSD/15.6\"</th>\n",
       "      <td>New</td>\n",
       "      <td>Alurin</td>\n",
       "      <td>Go</td>\n",
       "      <td>Intel Celeron</td>\n",
       "      <td>8</td>\n",
       "      <td>256</td>\n",
       "      <td>SSD</td>\n",
       "      <td>NaN</td>\n",
       "      <td>15.6</td>\n",
       "      <td>No</td>\n",
       "      <td>299.00</td>\n",
       "    </tr>\n",
       "    <tr>\n",
       "      <th>ASUS ExpertBook B1 B1502CBA-EJ0424X Intel Core i3-1215U/8GB/256GB SSD/15.6\"</th>\n",
       "      <td>New</td>\n",
       "      <td>Asus</td>\n",
       "      <td>ExpertBook</td>\n",
       "      <td>Intel Core i3</td>\n",
       "      <td>8</td>\n",
       "      <td>256</td>\n",
       "      <td>SSD</td>\n",
       "      <td>NaN</td>\n",
       "      <td>15.6</td>\n",
       "      <td>No</td>\n",
       "      <td>789.00</td>\n",
       "    </tr>\n",
       "    <tr>\n",
       "      <th>MSI Katana GF66 12UC-082XES Intel Core i7-12700H/16GB/1TB SSD/RTX3050/15.6\"</th>\n",
       "      <td>New</td>\n",
       "      <td>MSI</td>\n",
       "      <td>Katana</td>\n",
       "      <td>Intel Core i7</td>\n",
       "      <td>16</td>\n",
       "      <td>1000</td>\n",
       "      <td>SSD</td>\n",
       "      <td>RTX 3050</td>\n",
       "      <td>15.6</td>\n",
       "      <td>No</td>\n",
       "      <td>1199.00</td>\n",
       "    </tr>\n",
       "    <tr>\n",
       "      <th>HP 15S-FQ5085NS Intel Core i5-1235U/16GB/512GB SSD/15.6\"</th>\n",
       "      <td>New</td>\n",
       "      <td>HP</td>\n",
       "      <td>15S</td>\n",
       "      <td>Intel Core i5</td>\n",
       "      <td>16</td>\n",
       "      <td>512</td>\n",
       "      <td>SSD</td>\n",
       "      <td>NaN</td>\n",
       "      <td>15.6</td>\n",
       "      <td>No</td>\n",
       "      <td>669.01</td>\n",
       "    </tr>\n",
       "  </tbody>\n",
       "</table>\n",
       "</div>"
      ],
      "text/plain": [
       "                                                   Status   Brand       Model  \\\n",
       "Laptop                                                                          \n",
       "ASUS ExpertBook B1 B1502CBA-EJ0436X Intel Core ...    New    Asus  ExpertBook   \n",
       "Alurin Go Start Intel Celeron N4020/8GB/256GB S...    New  Alurin          Go   \n",
       "ASUS ExpertBook B1 B1502CBA-EJ0424X Intel Core ...    New    Asus  ExpertBook   \n",
       "MSI Katana GF66 12UC-082XES Intel Core i7-12700...    New     MSI      Katana   \n",
       "HP 15S-FQ5085NS Intel Core i5-1235U/16GB/512GB ...    New      HP         15S   \n",
       "\n",
       "                                                              CPU  RAM  \\\n",
       "Laptop                                                                   \n",
       "ASUS ExpertBook B1 B1502CBA-EJ0436X Intel Core ...  Intel Core i5    8   \n",
       "Alurin Go Start Intel Celeron N4020/8GB/256GB S...  Intel Celeron    8   \n",
       "ASUS ExpertBook B1 B1502CBA-EJ0424X Intel Core ...  Intel Core i3    8   \n",
       "MSI Katana GF66 12UC-082XES Intel Core i7-12700...  Intel Core i7   16   \n",
       "HP 15S-FQ5085NS Intel Core i5-1235U/16GB/512GB ...  Intel Core i5   16   \n",
       "\n",
       "                                                    Storage Storage type  \\\n",
       "Laptop                                                                     \n",
       "ASUS ExpertBook B1 B1502CBA-EJ0436X Intel Core ...      512          SSD   \n",
       "Alurin Go Start Intel Celeron N4020/8GB/256GB S...      256          SSD   \n",
       "ASUS ExpertBook B1 B1502CBA-EJ0424X Intel Core ...      256          SSD   \n",
       "MSI Katana GF66 12UC-082XES Intel Core i7-12700...     1000          SSD   \n",
       "HP 15S-FQ5085NS Intel Core i5-1235U/16GB/512GB ...      512          SSD   \n",
       "\n",
       "                                                         GPU  Screen Touch  \\\n",
       "Laptop                                                                       \n",
       "ASUS ExpertBook B1 B1502CBA-EJ0436X Intel Core ...       NaN    15.6    No   \n",
       "Alurin Go Start Intel Celeron N4020/8GB/256GB S...       NaN    15.6    No   \n",
       "ASUS ExpertBook B1 B1502CBA-EJ0424X Intel Core ...       NaN    15.6    No   \n",
       "MSI Katana GF66 12UC-082XES Intel Core i7-12700...  RTX 3050    15.6    No   \n",
       "HP 15S-FQ5085NS Intel Core i5-1235U/16GB/512GB ...       NaN    15.6    No   \n",
       "\n",
       "                                                    Final Price  \n",
       "Laptop                                                           \n",
       "ASUS ExpertBook B1 B1502CBA-EJ0436X Intel Core ...      1009.00  \n",
       "Alurin Go Start Intel Celeron N4020/8GB/256GB S...       299.00  \n",
       "ASUS ExpertBook B1 B1502CBA-EJ0424X Intel Core ...       789.00  \n",
       "MSI Katana GF66 12UC-082XES Intel Core i7-12700...      1199.00  \n",
       "HP 15S-FQ5085NS Intel Core i5-1235U/16GB/512GB ...       669.01  "
      ]
     },
     "execution_count": 11,
     "metadata": {},
     "output_type": "execute_result"
    }
   ],
   "source": [
    "import pandas as pd\n",
    "import numpy as np\n",
    "url = \"https://raw.githubusercontent.com/alexeygrigorev/datasets/master/laptops.csv\" #reading the file\n",
    "df = pd.read_csv(url,index_col=0)\n",
    "df.head()"
   ]
  },
  {
   "cell_type": "code",
   "execution_count": 2,
   "metadata": {},
   "outputs": [
    {
     "name": "stdout",
     "output_type": "stream",
     "text": [
      "2.2.2\n"
     ]
    }
   ],
   "source": [
    "print(pd.__version__)"
   ]
  },
  {
   "cell_type": "code",
   "execution_count": 3,
   "metadata": {},
   "outputs": [
    {
     "name": "stdout",
     "output_type": "stream",
     "text": [
      "2160\n"
     ]
    }
   ],
   "source": [
    "records=len(df)\n",
    "print(records)"
   ]
  },
  {
   "cell_type": "code",
   "execution_count": 4,
   "metadata": {},
   "outputs": [
    {
     "name": "stdout",
     "output_type": "stream",
     "text": [
      "27\n"
     ]
    }
   ],
   "source": [
    "brands=df.Brand\n",
    "brands=brands.unique()\n",
    "print(len(brands))"
   ]
  },
  {
   "cell_type": "code",
   "execution_count": 5,
   "metadata": {},
   "outputs": [
    {
     "data": {
      "text/plain": [
       "3"
      ]
     },
     "execution_count": 5,
     "metadata": {},
     "output_type": "execute_result"
    }
   ],
   "source": [
    "(df.isnull().sum()>0).sum()"
   ]
  },
  {
   "cell_type": "code",
   "execution_count": 6,
   "metadata": {},
   "outputs": [
    {
     "data": {
      "text/plain": [
       "3936.0"
      ]
     },
     "execution_count": 6,
     "metadata": {},
     "output_type": "execute_result"
    }
   ],
   "source": [
    "df[df['Brand']==\"Dell\"][\"Final Price\"].max()"
   ]
  },
  {
   "cell_type": "code",
   "execution_count": 7,
   "metadata": {},
   "outputs": [
    {
     "name": "stdout",
     "output_type": "stream",
     "text": [
      "15.6\n"
     ]
    }
   ],
   "source": [
    "dfmedian=df.Screen.median()\n",
    "print(dfmedian)"
   ]
  },
  {
   "cell_type": "code",
   "execution_count": 8,
   "metadata": {},
   "outputs": [
    {
     "name": "stdout",
     "output_type": "stream",
     "text": [
      "15.6\n"
     ]
    }
   ],
   "source": [
    "df_frequent=df.Screen.mode()\n",
    "df.Screen.fillna(df_frequent)\n",
    "print(df.Screen.median())"
   ]
  },
  {
   "cell_type": "code",
   "execution_count": 9,
   "metadata": {},
   "outputs": [],
   "source": [
    "X=df[df[\"Brand\"]==\"Innjoo\"][['RAM','Storage','Screen']].values"
   ]
  },
  {
   "cell_type": "code",
   "execution_count": 10,
   "metadata": {},
   "outputs": [
    {
     "name": "stdout",
     "output_type": "stream",
     "text": [
      "[[  8.  256.   15.6]\n",
      " [  8.  512.   15.6]\n",
      " [  4.   64.   14.1]\n",
      " [  6.   64.   14.1]\n",
      " [  6.  128.   14.1]\n",
      " [  6.  128.   14.1]]\n"
     ]
    }
   ],
   "source": [
    "print(X)"
   ]
  },
  {
   "cell_type": "code",
   "execution_count": 14,
   "metadata": {},
   "outputs": [
    {
     "name": "stdout",
     "output_type": "stream",
     "text": [
      "91.2998806299555\n"
     ]
    }
   ],
   "source": [
    "XTX=np.dot(X.T,X) \n",
    "XTXinv=np.linalg.inv(XTX)\n",
    "y = [1100, 1300, 800, 900, 1000, 1100]\n",
    "val=np.dot(XTXinv,X.T)\n",
    "w=np.dot(val,y)\n",
    "print(sum(w))"
   ]
  }
 ],
 "metadata": {
  "kernelspec": {
   "display_name": "myenv",
   "language": "python",
   "name": "python3"
  },
  "language_info": {
   "codemirror_mode": {
    "name": "ipython",
    "version": 3
   },
   "file_extension": ".py",
   "mimetype": "text/x-python",
   "name": "python",
   "nbconvert_exporter": "python",
   "pygments_lexer": "ipython3",
   "version": "3.12.3"
  }
 },
 "nbformat": 4,
 "nbformat_minor": 2
}
