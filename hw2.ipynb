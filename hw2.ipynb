{
 "cells": [
  {
   "cell_type": "code",
   "execution_count": 26,
   "metadata": {},
   "outputs": [],
   "source": [
    "import pandas as pd\n",
    "import numpy as np\n",
    "import time\n",
    "from memory_profiler import memory_usage\n",
    "url = \"https://raw.githubusercontent.com/alexeygrigorev/datasets/master/laptops.csv\" #reading the file\n",
    "df = pd.read_csv(url,index_col=0)\n",
    "df.head()\n",
    "df.columns = df.columns.str.lower().str.replace(' ', '_')"
   ]
  },
  {
   "cell_type": "code",
   "execution_count": 27,
   "metadata": {},
   "outputs": [
    {
     "data": {
      "text/plain": [
       "storage_type      42\n",
       "gpu             1371\n",
       "screen             4\n",
       "dtype: int64"
      ]
     },
     "execution_count": 27,
     "metadata": {},
     "output_type": "execute_result"
    }
   ],
   "source": [
    "#Q1\n",
    "pd.isnull(df).sum()[pd.isnull(df).sum() > 0] #finding the cols with NaN values and the number of NaN values in each col"
   ]
  },
  {
   "cell_type": "code",
   "execution_count": 28,
   "metadata": {},
   "outputs": [
    {
     "data": {
      "text/plain": [
       "status           object\n",
       "brand            object\n",
       "model            object\n",
       "cpu              object\n",
       "ram               int64\n",
       "storage           int64\n",
       "storage_type     object\n",
       "gpu              object\n",
       "screen          float64\n",
       "touch            object\n",
       "final_price     float64\n",
       "dtype: object"
      ]
     },
     "execution_count": 28,
     "metadata": {},
     "output_type": "execute_result"
    }
   ],
   "source": [
    "df.dtypes"
   ]
  },
  {
   "cell_type": "code",
   "execution_count": 29,
   "metadata": {},
   "outputs": [
    {
     "data": {
      "text/plain": [
       "['ram', 'storage', 'screen', 'final_price']"
      ]
     },
     "execution_count": 29,
     "metadata": {},
     "output_type": "execute_result"
    }
   ],
   "source": [
    "strings = list(df.dtypes[(df.dtypes == 'int64')|(df.dtypes == 'float64')].index)\n",
    "strings"
   ]
  },
  {
   "cell_type": "code",
   "execution_count": 30,
   "metadata": {},
   "outputs": [],
   "source": [
    "df=df[strings]"
   ]
  },
  {
   "cell_type": "code",
   "execution_count": 31,
   "metadata": {},
   "outputs": [],
   "source": [
    "import matplotlib.pyplot as plt\n",
    "import seaborn as sns\n",
    "\n",
    "%matplotlib inline"
   ]
  },
  {
   "cell_type": "code",
   "execution_count": 32,
   "metadata": {},
   "outputs": [
    {
     "data": {
      "text/plain": [
       "<Axes: xlabel='final_price', ylabel='Count'>"
      ]
     },
     "execution_count": 32,
     "metadata": {},
     "output_type": "execute_result"
    },
    {
     "data": {
      "image/png": "[encoded data removed]",
      "text/plain": [
       "<Figure size 640x480 with 1 Axes>"
      ]
     },
     "metadata": {},
     "output_type": "display_data"
    }
   ],
   "source": [
    "sns.histplot(df.final_price, bins=50)"
   ]
  },
  {
   "cell_type": "code",
   "execution_count": 33,
   "metadata": {},
   "outputs": [
    {
     "data": {
      "text/plain": [
       "16.0"
      ]
     },
     "execution_count": 33,
     "metadata": {},
     "output_type": "execute_result"
    }
   ],
   "source": [
    "#Q2\n",
    "df.ram.median()"
   ]
  },
  {
   "cell_type": "code",
   "execution_count": 34,
   "metadata": {},
   "outputs": [
    {
     "name": "stdout",
     "output_type": "stream",
     "text": [
      "15.168112244897959\n"
     ]
    }
   ],
   "source": [
    "screen_mean=df.screen.mean()\n",
    "print(screen_mean)"
   ]
  },
  {
   "cell_type": "code",
   "execution_count": 35,
   "metadata": {},
   "outputs": [],
   "source": [
    "#Splliting the dataset in train val and test\n",
    "def split_data(df,seed):\n",
    "    n = len(df)\n",
    "    n_val = int(n * 0.2)\n",
    "    n_test = int(n * 0.2)\n",
    "    n_train = n - n_val - n_test\n",
    "\n",
    "    df_train = df.iloc[:n_train]\n",
    "    df_val = df.iloc[n_train:n_train+n_val]\n",
    "    df_test = df.iloc[n_train+n_val:]\n",
    "\n",
    "    idx = np.arange(n)\n",
    "\n",
    "    np.random.seed(seed)\n",
    "    np.random.shuffle(idx)\n",
    "\n",
    "    df_train = df.iloc[idx[:n_train]]\n",
    "    df_val = df.iloc[idx[n_train:n_train+n_val]]\n",
    "    df_test = df.iloc[idx[n_train+n_val:]]\n",
    "\n",
    "    df_train = df_train.reset_index(drop=True)\n",
    "    df_val = df_val.reset_index(drop=True)\n",
    "    df_test = df_test.reset_index(drop=True)\n",
    "\n",
    "    y_train = np.log1p(df_train.final_price.values)\n",
    "    y_val = np.log1p(df_val.final_price.values)\n",
    "    y_test = np.log1p(df_test.final_price.values)\n",
    "\n",
    "    del df_train['final_price']\n",
    "    del df_val['final_price']\n",
    "    del df_test['final_price']\n",
    "    return df_train,df_val,df_test,y_train,y_val,y_test"
   ]
  },
  {
   "cell_type": "code",
   "execution_count": 36,
   "metadata": {},
   "outputs": [],
   "source": [
    "start_time = time.time()\n",
    "mem_usage_before = memory_usage()[0]"
   ]
  },
  {
   "cell_type": "code",
   "execution_count": 37,
   "metadata": {},
   "outputs": [],
   "source": [
    "#Splliting the dataset in train val and test\n",
    "def split_data_without_log1(df,seed):\n",
    "    n = len(df)\n",
    "    n_val = int(n * 0.2)\n",
    "    n_test = int(n * 0.2)\n",
    "    n_train = n - n_val - n_test\n",
    "\n",
    "    df_train = df.iloc[:n_train]\n",
    "    df_val = df.iloc[n_train:n_train+n_val]\n",
    "    df_test = df.iloc[n_train+n_val:]\n",
    "\n",
    "    idx = np.arange(n)\n",
    "\n",
    "    np.random.seed(seed)\n",
    "    np.random.shuffle(idx)\n",
    "\n",
    "    df_train = df.iloc[idx[:n_train]]\n",
    "    df_val = df.iloc[idx[n_train:n_train+n_val]]\n",
    "    df_test = df.iloc[idx[n_train+n_val:]]\n",
    "\n",
    "    df_train = df_train.reset_index(drop=True)\n",
    "    df_val = df_val.reset_index(drop=True)\n",
    "    df_test = df_test.reset_index(drop=True)\n",
    "\n",
    "    y_train = df_train.final_price.values\n",
    "    y_val = df_val.final_price.values\n",
    "    y_test = df_test.final_price.values\n",
    "\n",
    "    del df_train['final_price']\n",
    "    del df_val['final_price']\n",
    "    del df_test['final_price']\n",
    "    return df_train,df_val,df_test,y_train,y_val,y_test"
   ]
  },
  {
   "cell_type": "code",
   "execution_count": 38,
   "metadata": {},
   "outputs": [
    {
     "name": "stdout",
     "output_type": "stream",
     "text": [
      "Function executed in: 0.403903 seconds\n",
      "Memory used: 0.01 MB\n"
     ]
    }
   ],
   "source": [
    "end_time = time.time()\n",
    "mem_usage_after = memory_usage()[0]\n",
    "execution_time = end_time - start_time\n",
    "memory_used = mem_usage_after - mem_usage_before\n",
    "print(f\"Function executed in: {execution_time:.6f} seconds\")\n",
    "print(f\"Memory used: {memory_used:.2f} MB\")"
   ]
  },
  {
   "cell_type": "code",
   "execution_count": 39,
   "metadata": {},
   "outputs": [],
   "source": [
    "def prepare_X(df):\n",
    "    df = df.fillna(0)\n",
    "    X = df.values\n",
    "    return X\n",
    "\n",
    "def prepare_X_mean(df):\n",
    "    df = df.fillna(screen_mean)\n",
    "    X = df.values\n",
    "    return X\n",
    "\n",
    "def train_linear_regression(X, y):\n",
    "    ones = np.ones(X.shape[0])\n",
    "    X = np.column_stack([ones, X])\n",
    "    XTX = X.T.dot(X)\n",
    "    XTX_inv = np.linalg.inv(XTX)\n",
    "    w = XTX_inv.dot(X.T).dot(y)\n",
    "    return w[0], w[1:]\n",
    "\n",
    "def rmse(y, y_pred):\n",
    "    error = y_pred - y\n",
    "    mse = (error ** 2).mean()\n",
    "    return np.sqrt(mse)"
   ]
  },
  {
   "cell_type": "code",
   "execution_count": 40,
   "metadata": {},
   "outputs": [
    {
     "name": "stdout",
     "output_type": "stream",
     "text": [
      "0.43\n"
     ]
    }
   ],
   "source": [
    "#Q3 with NaN replaced with 0 and seed 42\n",
    "df_train,df_val,df_test,y_train,y_val,y_test=split_data(df,42)\n",
    "x_train=prepare_X(df_train)\n",
    "x_val=prepare_X(df_val)\n",
    "w0,w=train_linear_regression(x_train,y_train)\n",
    "y_prdt=w0+x_val.dot(w)\n",
    "score=rmse(y_val,y_prdt)\n",
    "print(round(score,2))"
   ]
  },
  {
   "cell_type": "code",
   "execution_count": 41,
   "metadata": {},
   "outputs": [
    {
     "name": "stdout",
     "output_type": "stream",
     "text": [
      "0.43\n"
     ]
    }
   ],
   "source": [
    "#Q3 with NaN replaced with mean of screen and seed 42\n",
    "df_train,df_val,df_test,y_train,y_val,y_test=split_data(df,42)\n",
    "x_train=prepare_X_mean(df_train)\n",
    "x_val=prepare_X(df_val)\n",
    "w0,w=train_linear_regression(x_train,y_train)\n",
    "y_prdt=w0+x_val.dot(w)\n",
    "score=rmse(y_val,y_prdt)\n",
    "print(round(score,2))"
   ]
  },
  {
   "cell_type": "code",
   "execution_count": 42,
   "metadata": {},
   "outputs": [],
   "source": [
    "#code for regularization\n",
    "def train_linear_regression_reg(X, y, r=0.0):\n",
    "    ones = np.ones(X.shape[0])\n",
    "    X = np.column_stack([ones, X])\n",
    "\n",
    "    XTX = X.T.dot(X)\n",
    "    reg = r * np.eye(XTX.shape[0])\n",
    "    XTX = XTX + reg\n",
    "\n",
    "    XTX_inv = np.linalg.inv(XTX)\n",
    "    w = XTX_inv.dot(X.T).dot(y)\n",
    "    \n",
    "    return w[0], w[1:]"
   ]
  },
  {
   "cell_type": "code",
   "execution_count": 43,
   "metadata": {},
   "outputs": [
    {
     "name": "stdout",
     "output_type": "stream",
     "text": [
      "for the 0 erorr is 0.43\n",
      "for the 0.01 erorr is 0.43\n",
      "for the 0.1 erorr is 0.43\n",
      "for the 1 erorr is 0.43\n",
      "for the 5 erorr is 0.46\n",
      "for the 10 erorr is 0.51\n",
      "for the 100 erorr is 0.67\n"
     ]
    }
   ],
   "source": [
    "#Q4\n",
    "r=[0, 0.01, 0.1, 1, 5, 10, 100]\n",
    "for r in r:\n",
    "    df_train,df_val,df_test,y_train,y_val,y_test=split_data(df,42)\n",
    "    x_train=prepare_X(df_train)\n",
    "    x_val=prepare_X(df_val)\n",
    "    w0,w=train_linear_regression_reg(x_train,y_train,r)\n",
    "    y_prdt=w0+x_val.dot(w)\n",
    "    score=rmse(y_val,y_prdt)\n",
    "    print(f'for the {r} erorr is',round(score,2))\n"
   ]
  },
  {
   "cell_type": "code",
   "execution_count": 44,
   "metadata": {},
   "outputs": [
    {
     "name": "stdout",
     "output_type": "stream",
     "text": [
      "for the seed 0 erorr is 565.45\n",
      "for the seed 1 erorr is 636.8\n",
      "for the seed 2 erorr is 588.96\n",
      "for the seed 3 erorr is 597.81\n",
      "for the seed 4 erorr is 571.96\n",
      "for the seed 5 erorr is 573.24\n",
      "for the seed 6 erorr is 647.34\n",
      "for the seed 7 erorr is 550.44\n",
      "for the seed 8 erorr is 587.33\n",
      "for the seed 9 erorr is 576.1\n",
      "std of all rmse is 29.176\n"
     ]
    }
   ],
   "source": [
    "#Q5 \n",
    "seed_vals=[0, 1, 2, 3, 4, 5, 6, 7, 8, 9]\n",
    "rmse_vals=[]\n",
    "for s in seed_vals:\n",
    "    df_train,df_val,df_test,y_train,y_val,y_test=split_data_without_log1(df,s)\n",
    "    x_train=prepare_X(df_train)\n",
    "    x_val=prepare_X(df_val)\n",
    "    w0,w=train_linear_regression(x_train,y_train)\n",
    "    y_prdt=w0+x_val.dot(w)\n",
    "    score=rmse(y_val,y_prdt)\n",
    "    rmse_vals.append(score)\n",
    "    print(f'for the seed {s} erorr is',round(score,2))\n",
    "\n",
    "print('std of all rmse is',round(np.std(rmse_vals),3))"
   ]
  },
  {
   "cell_type": "code",
   "execution_count": 45,
   "metadata": {},
   "outputs": [
    {
     "name": "stdout",
     "output_type": "stream",
     "text": [
      "RSME score is 608.61\n"
     ]
    }
   ],
   "source": [
    " #Q6\n",
    "n = len(df)\n",
    "n_test = int(n * 0.2)\n",
    "n_train_val = n -  n_test\n",
    "\n",
    "df_train = df.iloc[:n_train_val]\n",
    "df_test = df.iloc[n_train_val:]\n",
    "\n",
    "idx = np.arange(n)\n",
    "\n",
    "np.random.seed(9)\n",
    "np.random.shuffle(idx)\n",
    "\n",
    "df_train_val = df.iloc[idx[:n_train_val]]\n",
    "df_test = df.iloc[idx[n_train_val:]]\n",
    "\n",
    "df_train_val = df_train_val.reset_index(drop=True)\n",
    "df_test = df_test.reset_index(drop=True)\n",
    "\n",
    "y_train_val = df_train_val.final_price.values\n",
    "y_test = df_test.final_price.values\n",
    "\n",
    "del df_train_val['final_price']\n",
    "del df_test['final_price']\n",
    "\n",
    "x_train_val=prepare_X(df_train_val)\n",
    "x_test=prepare_X(df_test)\n",
    "w0,w= train_linear_regression_reg(x_train_val,y_train_val,r=0.001)\n",
    "y_prdt= w0 + x_test.dot(w)\n",
    "print('RSME score is',round(rmse(y_test,y_prdt),2))\n"
   ]
  },
  {
   "cell_type": "code",
   "execution_count": null,
   "metadata": {},
   "outputs": [],
   "source": []
  },
  {
   "cell_type": "code",
   "execution_count": null,
   "metadata": {},
   "outputs": [],
   "source": []
  }
 ],
 "metadata": {
  "kernelspec": {
   "display_name": "myenv",
   "language": "python",
   "name": "python3"
  },
  "language_info": {
   "codemirror_mode": {
    "name": "ipython",
    "version": 3
   },
   "file_extension": ".py",
   "mimetype": "text/x-python",
   "name": "python",
   "nbconvert_exporter": "python",
   "pygments_lexer": "ipython3",
   "version": "3.12.3"
  }
 },
 "nbformat": 4,
 "nbformat_minor": 2
}
